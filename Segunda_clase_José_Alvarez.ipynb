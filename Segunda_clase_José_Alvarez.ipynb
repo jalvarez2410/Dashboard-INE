{
  "nbformat": 4,
  "nbformat_minor": 0,
  "metadata": {
    "colab": {
      "provenance": [],
      "authorship_tag": "ABX9TyPDSSslz3gTPbAwnNo1L3lG",
      "include_colab_link": true
    },
    "kernelspec": {
      "name": "python3",
      "display_name": "Python 3"
    },
    "language_info": {
      "name": "python"
    }
  },
  "cells": [
    {
      "cell_type": "markdown",
      "metadata": {
        "id": "view-in-github",
        "colab_type": "text"
      },
      "source": [
        "<a href=\"https://colab.research.google.com/github/jalvarez2410/Dashboard-INE/blob/main/Segunda_clase_Jos%C3%A9_Alvarez.ipynb\" target=\"_parent\"><img src=\"https://colab.research.google.com/assets/colab-badge.svg\" alt=\"Open In Colab\"/></a>"
      ]
    },
    {
      "cell_type": "markdown",
      "source": [
        "#Ejercicio 1\n",
        "\n",
        "1. Escriba un programa para ingresar 2 números e imprimir su suma."
      ],
      "metadata": {
        "id": "a_XT521WHkR_"
      }
    },
    {
      "cell_type": "code",
      "execution_count": null,
      "metadata": {
        "colab": {
          "base_uri": "https://localhost:8080/"
        },
        "outputId": "cb4ca383-cbec-4634-ab46-16bd17862591",
        "id": "u0tR7-CMHkSS"
      },
      "outputs": [
        {
          "output_type": "stream",
          "name": "stdout",
          "text": [
            "Ingrese un primer número: 10\n",
            "Ingrese un segundo número: 10.5\n",
            "La suma de los números ingresados es: 20.5\n"
          ]
        }
      ],
      "source": [
        "numero1= float(input(\"Ingrese un primer número: \"))\n",
        "numero2= float(input(\"Ingrese un segundo número: \"))\n",
        "suma= numero1 + numero2\n",
        "print(\"La suma de los números ingresados es:\", suma)"
      ]
    },
    {
      "cell_type": "markdown",
      "source": [
        "#Ejercicio 2.\n",
        "Escriba un programa para ingresar el lado de un cuadrado e imprimir su área.\n"
      ],
      "metadata": {
        "id": "X2NjI8RzHkiR"
      }
    },
    {
      "cell_type": "code",
      "execution_count": 3,
      "metadata": {
        "colab": {
          "base_uri": "https://localhost:8080/"
        },
        "outputId": "ff4443d1-0594-4811-f3e5-bae9393f8f11",
        "id": "gx11ZrVGHkiT"
      },
      "outputs": [
        {
          "output_type": "stream",
          "name": "stdout",
          "text": [
            "Ingrese el lado del cuadrado: 10\n",
            "El lado de un cuadrado es: 100.0\n"
          ]
        }
      ],
      "source": [
        "lado= float(input(\"Ingrese el lado del cuadrado: \"))\n",
        "area= lado*lado\n",
        "print(\"El lado de un cuadrado es:\", area)"
      ]
    },
    {
      "cell_type": "markdown",
      "source": [
        "#Ejercicio 3\n",
        "\n",
        "En una comunidad las autoridades locales desean automatizar el proceso de verificación para ver si una persona es legible a votar o no en las próximas elecciones. Las leyes electorales estipulan que una persona es capaz de votar si cumple con las tres condiciones siguientes.\n",
        "\n",
        "a. Tener al menos 18 años de edad.\n",
        "\n",
        "b. Ser ciudadano registrado de la comunidad.\n",
        "\n",
        "\n",
        "c. No tener restricciones legales que le impidan votar, es decir no haber sido condenados por algún delito en la comunidad.\n",
        "\n",
        "Para ayudar a las autoridades locales, se le pide que desarrolle un programa en Python para verificar la legibilidad de una persona para votar. Tome en cuenta las consideraciones anteriores, recibe como entrada del usuario la edad, su ciudadanía y si fue condenado por algún delito o no.\n",
        "El programa debe regresar si la persona es capaz de votar o no."
      ],
      "metadata": {
        "id": "nGKiap4lG8Fa"
      }
    },
    {
      "cell_type": "code",
      "execution_count": 38,
      "metadata": {
        "colab": {
          "base_uri": "https://localhost:8080/"
        },
        "id": "i83DBpIbGlnL",
        "outputId": "f78b6bad-c410-40c9-f088-4512f3a71bb4"
      },
      "outputs": [
        {
          "output_type": "stream",
          "name": "stdout",
          "text": [
            "Ingrese su edad: 19\n",
            "¿Usted es ciudadano de la comunidad? (si/no): no\n",
            "¿Usted ha sido condenado por algún delito? (si/no): no\n",
            "Usted no puede votar\n"
          ]
        }
      ],
      "source": [
        "edad= int(input(\"Ingrese su edad: \"))\n",
        "ciudadano= input(\"¿Usted es ciudadano de la comunidad? (si/no): \")\n",
        "legal= input(\"¿Usted ha sido condenado por algún delito? (si/no): \")\n",
        "if edad >= 18 and ciudadano == \"si\" and legal == \"no\":\n",
        "  print(\"Usted puede votar\")\n",
        "else:\n",
        "  print(\"Usted no puede votar\")\n",
        "\n",
        "\n",
        "\n"
      ]
    }
  ]
}